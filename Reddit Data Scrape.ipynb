{
 "cells": [
  {
   "cell_type": "code",
   "execution_count": 76,
   "id": "happy-missouri",
   "metadata": {},
   "outputs": [],
   "source": [
    "import praw\n",
    "import pandas as pd\n",
    "import datetime as dt\n",
    "\n",
    "#Instance of PRAW\n",
    "#Able to call commands with reddit, linked with reddit account \"SignalLearn4Free\"\n",
    "reddit = praw.Reddit(client_id = \"PimQNhTpwjICwQ\",\n",
    "                     client_secret = \"bgD8hXMXxWJnhGNnVyz-Uoi-F7A5GQ\",\n",
    "                     password = \"tradingalgo99\",\n",
    "                     user_agent = \"NKumar\",\n",
    "                     username = \"SignalLearn4Free\")"
   ]
  },
  {
   "cell_type": "code",
   "execution_count": 77,
   "id": "scenic-personality",
   "metadata": {},
   "outputs": [],
   "source": [
    "#subreddits to cover:\n",
    "#Bitcoin\n",
    "#ethereum\n",
    "#cryptocurrency\n",
    "\n",
    "Bitcoin = reddit.subreddit(\"Bitcoin\")\n",
    "BitcoinMarkets = reddit.subreddit(\"BitcoinMarkets\")\n",
    "btc = reddit.subreddit(\"btc\")\n",
    "BitcoinBeginners = reddit.subreddit(\"BitcoinBeginners\")\n",
    "\n",
    "ethereum = reddit.subreddit(\"ethereum\")\n",
    "ethtrader = reddit.subreddit(\"ethtrader\")\n",
    "ethfinance = reddit.subreddit(\"ethfinance\")\n",
    "\n",
    "CryptoCurrencyTrading = reddit.subreddit(\"CryptoCurrencyTrading\")\n",
    "cryptocurrency = reddit.subreddit(\"cryptocurrency\")\n",
    "cryptomarkets = reddit.subreddit(\"cryptomarkets\")"
   ]
  },
  {
   "cell_type": "code",
   "execution_count": 78,
   "id": "committed-millennium",
   "metadata": {},
   "outputs": [
    {
     "name": "stdout",
     "output_type": "stream",
     "text": [
      "2020-08-31 05:22:31\n"
     ]
    }
   ],
   "source": [
    "def get_UTC(time):\n",
    "    time = int(time)\n",
    "    time = dt.datetime.utcfromtimestamp(time).strftime('%Y-%m-%d %H:%M:%S')\n",
    "    return time\n",
    "\n",
    "print(get_UTC(\"1598851351\"))"
   ]
  },
  {
   "cell_type": "code",
   "execution_count": 79,
   "id": "associate-remainder",
   "metadata": {},
   "outputs": [
    {
     "name": "stdout",
     "output_type": "stream",
     "text": [
      "Wall time: 1.01 ms\n"
     ]
    }
   ],
   "source": [
    "%%time\n",
    "def getComments(ticker,numOfPosts):\n",
    "    \n",
    "    dataBase = {\n",
    "        \"post_id\":[],\n",
    "        \"post_title\":[],\n",
    "        \"post_score\":[],\n",
    "        \"post_time_created\":[],\n",
    "        \"num_comms\":[],\n",
    "        \"comment_id\":[],\n",
    "        \"comment_body\":[],\n",
    "        \"comment_score\":[],\n",
    "        \"comment_time_created\":[]\n",
    "    } #all comments with post information as well\n",
    "\n",
    "    for submission in ticker.top(\"year\",limit=numOfPosts): #Loop through top posts over the last year\n",
    "        submission.comments.replace_more(limit=2)\n",
    "        for comment in submission.comments.list(): #Loop through comments in post\n",
    "            #Post data\n",
    "            dataBase[\"post_id\"].append(submission.id)\n",
    "            dataBase[\"post_title\"].append(submission.title)\n",
    "            dataBase[\"post_score\"].append(submission.score)\n",
    "            dataBase[\"post_time_created\"].append(get_UTC(submission.created_utc))\n",
    "            dataBase[\"num_comms\"].append(submission.num_comments)\n",
    "\n",
    "            #Comment data\n",
    "            dataBase[\"comment_id\"].append(comment.id)\n",
    "            dataBase[\"comment_body\"].append(comment.body)\n",
    "            dataBase[\"comment_score\"].append(comment.score)\n",
    "            dataBase[\"comment_time_created\"].append(get_UTC(comment.created_utc))\n",
    "            \n",
    "            \n",
    "    return dataBase"
   ]
  },
  {
   "cell_type": "code",
   "execution_count": 80,
   "id": "miniature-turkey",
   "metadata": {
    "scrolled": false
   },
   "outputs": [
    {
     "name": "stdout",
     "output_type": "stream",
     "text": [
      "233975\n",
      "171306\n",
      "76227\n",
      "46569\n",
      "58256\n",
      "69710\n",
      "77403\n",
      "\n",
      "Bitcoin Comments:  528077\n",
      "Ethereum Comments:  205369\n",
      "Wall time: 3h 51min 50s\n"
     ]
    }
   ],
   "source": [
    "%%time\n",
    "\n",
    "\n",
    "BitcoinDB = getComments(Bitcoin,1000)\n",
    "a = len(BitcoinDB[\"comment_id\"])\n",
    "print(a)\n",
    "\n",
    "BitcoinMarketsDB = getComments(BitcoinMarkets,1000)\n",
    "b = len(BitcoinMarketsDB[\"comment_id\"])\n",
    "print(b)\n",
    "\n",
    "btcDB = getComments(btc,1000)\n",
    "c = len(btcDB[\"comment_id\"])\n",
    "print(c)\n",
    "\n",
    "BitcoinBeginnersDB = getComments(BitcoinBeginners,1000)\n",
    "d = len(BitcoinBeginnersDB[\"comment_id\"])\n",
    "print(d)\n",
    "\n",
    "\n",
    "\n",
    "ethereumDB = getComments(ethereum,1000)\n",
    "e = len(ethereumDB[\"comment_id\"])\n",
    "print(e)\n",
    "\n",
    "ethtraderDB = getComments(ethtrader,1000)\n",
    "f = len(ethtraderDB[\"comment_id\"])\n",
    "print(f)\n",
    "\n",
    "ethfinanceDB = getComments(ethfinance,1000)\n",
    "g = len(ethfinanceDB[\"comment_id\"])\n",
    "print(g)\n",
    "\n",
    "\n",
    "print()\n",
    "print(\"Bitcoin Comments: \",a+b+c+d)\n",
    "print(\"Ethereum Comments: \",e+f+g)"
   ]
  },
  {
   "cell_type": "code",
   "execution_count": 83,
   "id": "conscious-viking",
   "metadata": {},
   "outputs": [],
   "source": [
    "#dict to DataFrame\n",
    "BitcoinDF = pd.DataFrame.from_dict(BitcoinDB)\n",
    "BitcoinMarketsDF = pd.DataFrame.from_dict(BitcoinMarketsDB)\n",
    "btcDF = pd.DataFrame.from_dict(btcDB)\n",
    "BitcoinBeginnersDF = pd.DataFrame.from_dict(BitcoinBeginnersDB)\n",
    "\n",
    "ethereumDF = pd.DataFrame.from_dict(ethereumDB)\n",
    "ethtraderDF = pd.DataFrame.from_dict(ethtraderDB)\n",
    "ethfinanceDF = pd.DataFrame.from_dict(ethfinanceDB)\n",
    "\n",
    "#Dataframe to CSV\n",
    "BitcoinDF.to_csv(r'C:\\Users\\nikhi\\Nikhil\\Capstone\\Capstone2021\\Bitcoin.csv')\n",
    "BitcoinMarketsDF.to_csv(r'C:\\Users\\nikhi\\Nikhil\\Capstone\\Capstone2021\\BitcoinMarkets.csv')\n",
    "btcDF.to_csv(r'C:\\Users\\nikhi\\Nikhil\\Capstone\\Capstone2021\\btc.csv')\n",
    "BitcoinBeginnersDF.to_csv(r'C:\\Users\\nikhi\\Nikhil\\Capstone\\Capstone2021\\BitcoinBeginners.csv')\n",
    "\n",
    "ethereumDF.to_csv(r'C:\\Users\\nikhi\\Nikhil\\Capstone\\Capstone2021\\ethereum.csv')\n",
    "ethtraderDF.to_csv(r'C:\\Users\\nikhi\\Nikhil\\Capstone\\Capstone2021\\ethtrader.csv')\n",
    "ethfinanceDF.to_csv(r'C:\\Users\\nikhi\\Nikhil\\Capstone\\Capstone2021\\ethfinance.csv')"
   ]
  },
  {
   "cell_type": "code",
   "execution_count": null,
   "id": "joined-format",
   "metadata": {},
   "outputs": [],
   "source": [
    "topics_dict = { \"title\":[],\n",
    "                \"score\":[],\n",
    "                \"id\":[], \"url\":[],\n",
    "                \"num_comms\":[],\n",
    "                \"time_created\":[],\n",
    "                \"body\":[]\n",
    "            }\n",
    "\n",
    "# t = 0\n",
    "# print(dt.datetime.utcfromtimestamp(t).strftime('%Y-%m-%d %H:%M:%S'))\n",
    "\n",
    "def get_date(time):\n",
    "    return dt.datetime.fromtimestamp(time)\n",
    "\n",
    "\n",
    "\n",
    "for submission in hot_crypto:\n",
    "    if not submission.stickied:\n",
    "        topics_dict[\"title\"].append(submission.title)\n",
    "        topics_dict[\"score\"].append(submission.score)\n",
    "        topics_dict[\"id\"].append(submission.id)\n",
    "        topics_dict[\"url\"].append(submission.url)\n",
    "        topics_dict[\"num_comms\"].append(submission.num_comments)\n",
    "        time = int(submission.created_utc)\n",
    "        time = dt.datetime.utcfromtimestamp(time).strftime('%Y-%m-%d %H:%M:%S')\n",
    "        topics_dict[\"time_created\"].append(time)\n",
    "        topics_dict[\"body\"].append(submission.selftext)\n",
    "\n",
    "topics_data = pd.DataFrame(topics_dict)\n",
    "#pd.set_option(\"display.max_rows\", None, \"display.max_columns\", None)\n",
    "print(topics_data)\n",
    "#topics_data.to_csv('topics_data')"
   ]
  },
  {
   "cell_type": "code",
   "execution_count": 73,
   "id": "micro-measurement",
   "metadata": {},
   "outputs": [
    {
     "name": "stdout",
     "output_type": "stream",
     "text": [
      "Reddit announces partnership with the Ethereum Foundation\n",
      "\n",
      "Smash the ⬆️if you want to see $1500 .... Your positive energy needed !\n",
      "\n",
      "Simple!\n",
      "\n",
      "Is that really too much to ask?\n",
      "\n",
      "Poll: Should we ban NFT advertisements from r/Ethereum?\n",
      "\n",
      "Truth!\n",
      "\n",
      "Ethereum is open 24/7\n",
      "\n",
      "This street art recently appeared in Melbourne, Australia.\n",
      "\n",
      "This happens when cryptos break all-times highs. It happened when GameStop went parabolic. If you’re trading crypto with this company: Get. Off. This. Platform.\n",
      "\n",
      "Anyone else feel like this lately?\n",
      "\n",
      "But can't turn off Defi, Ethereum and their censorship brings millions new user to Defi/Ethereum Ecosystem.\n",
      "\n",
      "The day ETH breaks $20,000 I will buy everyone on here a cheeseburger.\n",
      "\n",
      "HSBC money laundering King blocking Crypto Buying\n",
      "\n",
      "Great visualization of transactions being done on Ethereum vs. Bitcoin — this is why ETH is the future!\n",
      "\n",
      "Where lambo\n",
      "\n",
      "Tesla 😢\n",
      "\n",
      "Crypto gives you hair\n",
      "\n",
      "3am. Can't sleep. Let's see how my portfolio is doing.\n",
      "\n",
      "Just when the class of 2021 thought the dip was over\n",
      "\n",
      "Yeah\n",
      "\n"
     ]
    }
   ],
   "source": [
    "for submission in reddit.subreddit(\"ethereum+ethtrader\").top(\"year\",limit=20):\n",
    "    print(submission.title)\n",
    "    print()"
   ]
  },
  {
   "cell_type": "code",
   "execution_count": null,
   "id": "miniature-discussion",
   "metadata": {},
   "outputs": [],
   "source": []
  }
 ],
 "metadata": {
  "kernelspec": {
   "display_name": "Python 3",
   "language": "python",
   "name": "python3"
  },
  "language_info": {
   "codemirror_mode": {
    "name": "ipython",
    "version": 3
   },
   "file_extension": ".py",
   "mimetype": "text/x-python",
   "name": "python",
   "nbconvert_exporter": "python",
   "pygments_lexer": "ipython3",
   "version": "3.8.5"
  }
 },
 "nbformat": 4,
 "nbformat_minor": 5
}
